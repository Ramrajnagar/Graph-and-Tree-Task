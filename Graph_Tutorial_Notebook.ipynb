{
 "cells": [
  {
   "cell_type": "markdown",
   "id": "d5717fed",
   "metadata": {},
   "source": [
    "\n",
    " 📘 Graphs & Trees: A Beginner's Tutorial Notebook\n",
    "\n",
    "This notebook is a complete guide to understanding basic graph and tree operations with Python's `networkx` and `collections` libraries. Each task is explained with well-commented code and real-world examples.\n",
    "\n",
    "---\n"
   ]
  },
  {
   "cell_type": "code",
   "execution_count": null,
   "id": "a84cc26b",
   "metadata": {},
   "outputs": [],
   "source": [
    "\n",
    "import networkx as nx\n",
    "from collections import defaultdict, deque\n",
    "import matplotlib.pyplot as plt\n"
   ]
  },
  {
   "cell_type": "markdown",
   "id": "8efb6860",
   "metadata": {},
   "source": [
    "### 1. Degree of Each Vertex and Sorting by Degree"
   ]
  },
  {
   "cell_type": "markdown",
   "id": "7f26a75a",
   "metadata": {},
   "source": [
    "Explanation:\n",
    "The degree of a vertex is the number of edges connected to it. In social networks, it’s like how many friends a person has.\n",
    "In road maps, it's the number of roads entering or leaving a city"
   ]
  },
  {
   "cell_type": "code",
   "execution_count": null,
   "id": "a99e7de7",
   "metadata": {},
   "outputs": [],
   "source": [
    "\n",
    "# Creating a simple graph\n",
    "G = nx.Graph()\n",
    "edges = [('A', 'B'), ('A', 'C'), ('B', 'C'), ('C', 'D')]\n",
    "G.add_edges_from(edges)\n",
    "\n",
    "# Compute the degree of each vertex\n",
    "degree_dict = dict(G.degree())\n",
    "print(\"Degree Dictionary:\", degree_dict)\n",
    "\n",
    "# Sort vertices by degree\n",
    "sorted_degree = dict(sorted(degree_dict.items(), key=lambda item: item[1]))\n",
    "print(\"Sorted by Degree:\", sorted_degree)\n"
   ]
  },
  {
   "cell_type": "markdown",
   "id": "dd1f48cd",
   "metadata": {},
   "source": [
    "### 2. Inter-convert Graph Representations"
   ]
  },
  {
   "cell_type": "markdown",
   "id": "2addbcad",
   "metadata": {},
   "source": [
    "Explanation:\n",
    "There are multiple ways to represent graphs: Adjacency List, Adjacency Matrix, and Edge List.\n",
    "These are like storing contact info as a phonebook (list), a spreadsheet (matrix), or a chat history (edges).\n"
   ]
  },
  {
   "cell_type": "code",
   "execution_count": null,
   "id": "7b7b6a6e",
   "metadata": {},
   "outputs": [],
   "source": [
    "\n",
    "# Adjacency List\n",
    "adj_list = defaultdict(list)\n",
    "for u, v in edges:\n",
    "    adj_list[u].append(v)\n",
    "    adj_list[v].append(u)\n",
    "print(\"Adjacency List:\", dict(adj_list))\n",
    "\n",
    "# Adjacency Matrix\n",
    "nodes = list(adj_list.keys())\n",
    "n = len(nodes)\n",
    "index = {node: i for i, node in enumerate(nodes)}\n",
    "adj_matrix = [[0]*n for _ in range(n)]\n",
    "for u in adj_list:\n",
    "    for v in adj_list[u]:\n",
    "        adj_matrix[index[u]][index[v]] = 1\n",
    "print(\"Adjacency Matrix:\")\n",
    "for row in adj_matrix:\n",
    "    print(row)\n",
    "\n",
    "# Edge List\n",
    "print(\"Edge List:\", list(G.edges()))\n"
   ]
  },
  {
   "cell_type": "markdown",
   "id": "9c393b8a",
   "metadata": {},
   "source": [
    "### 3. Check if Two Vertices are Adjacent"
   ]
  },
  {
   "cell_type": "markdown",
   "id": "237a1786",
   "metadata": {},
   "source": [
    "Explanation:\n",
    "Two vertices are adjacent if there’s a direct edge between them — like checking if two friends are directly connected."
   ]
  },
  {
   "cell_type": "code",
   "execution_count": null,
   "id": "eaf86cf4",
   "metadata": {},
   "outputs": [],
   "source": [
    "\n",
    "def are_adjacent(graph, u, v):\n",
    "    return graph.has_edge(u, v)\n",
    "\n",
    "print(\"Are A and B adjacent?\", are_adjacent(G, 'A', 'B'))\n",
    "print(\"Are A and D adjacent?\", are_adjacent(G, 'A', 'D'))\n"
   ]
  },
  {
   "cell_type": "markdown",
   "id": "74d25017",
   "metadata": {},
   "source": [
    "### 4. Check if Graph is Complete"
   ]
  },
  {
   "cell_type": "markdown",
   "id": "abdc8515",
   "metadata": {},
   "source": [
    "Explanation:\n",
    "A complete graph has every vertex connected to every other vertex.\n",
    "Like a WhatsApp group where everyone messages everyone."
   ]
  },
  {
   "cell_type": "code",
   "execution_count": null,
   "id": "ba92d20a",
   "metadata": {},
   "outputs": [],
   "source": [
    "\n",
    "def is_complete(graph):\n",
    "    n = len(graph.nodes())\n",
    "    return len(graph.edges()) == n * (n - 1) // 2\n",
    "\n",
    "print(\"Is the graph complete?\", is_complete(G))\n"
   ]
  },
  {
   "cell_type": "markdown",
   "id": "c87287a2",
   "metadata": {},
   "source": [
    "### 5. Check if Graph is Connected"
   ]
  },
  {
   "cell_type": "markdown",
   "id": "a23f2a60",
   "metadata": {},
   "source": [
    "Explanation:\n",
    "A graph is connected if there’s a path between every pair of vertices.\n",
    "Like a fully connected railway network."
   ]
  },
  {
   "cell_type": "code",
   "execution_count": null,
   "id": "badcae19",
   "metadata": {},
   "outputs": [],
   "source": [
    "\n",
    "print(\"Is the graph connected?\", nx.is_connected(G))\n"
   ]
  },
  {
   "cell_type": "markdown",
   "id": "df0e1e17",
   "metadata": {},
   "source": [
    "### 6. Walk / Trail / Path Checker"
   ]
  },
  {
   "cell_type": "markdown",
   "id": "ff3917e9",
   "metadata": {},
   "source": [
    "Explanation:\n",
    "\n",
    "Walk: Any sequence of vertices (repetition allowed).\n",
    "\n",
    "Trail: Walk with no repeated edges.\n",
    "\n",
    "Path: Walk with no repeated vertices.\n",
    "\n",
    "Like routes from one city to another — walk is any travel, trail avoids same road, path avoids same city."
   ]
  },
  {
   "cell_type": "code",
   "execution_count": null,
   "id": "dec1eeed",
   "metadata": {},
   "outputs": [],
   "source": [
    "\n",
    "def classify_sequence(graph, sequence):\n",
    "    edges = set()\n",
    "    nodes = set()\n",
    "    for i in range(len(sequence) - 1):\n",
    "        if not graph.has_edge(sequence[i], sequence[i + 1]):\n",
    "            return \"Not a walk\"\n",
    "        edge = tuple(sorted((sequence[i], sequence[i + 1])))\n",
    "        if edge in edges:\n",
    "            continue\n",
    "        edges.add(edge)\n",
    "        nodes.add(sequence[i])\n",
    "        nodes.add(sequence[i + 1])\n",
    "    if len(edges) == len(sequence) - 1:\n",
    "        if len(nodes) == len(sequence):\n",
    "            return \"Path\"\n",
    "        return \"Trail\"\n",
    "    return \"Walk\"\n",
    "\n",
    "print(\"Classify ['A', 'B', 'C']:\", classify_sequence(G, ['A', 'B', 'C']))\n",
    "print(\"Classify ['A', 'C', 'A']:\", classify_sequence(G, ['A', 'C', 'A']))\n"
   ]
  },
  {
   "cell_type": "markdown",
   "id": "5dafc353",
   "metadata": {},
   "source": [
    "### 7. Check if Graph is a Tree"
   ]
  },
  {
   "cell_type": "markdown",
   "id": "c37c0d33",
   "metadata": {},
   "source": [
    "Explanation:\n",
    "\n",
    "A tree is a connected graph with no cycles.\n",
    "\n",
    "Like a family tree or directory structure in computers."
   ]
  },
  {
   "cell_type": "code",
   "execution_count": null,
   "id": "94fe3f15",
   "metadata": {},
   "outputs": [],
   "source": [
    "\n",
    "print(\"Is the graph a tree?\", nx.is_tree(G))\n"
   ]
  },
  {
   "cell_type": "markdown",
   "id": "ef49b71f",
   "metadata": {},
   "source": [
    "### 8. Spanning Tree of a Cyclic Graph"
   ]
  },
  {
   "cell_type": "markdown",
   "id": "64702580",
   "metadata": {},
   "source": [
    "Explanation:\n",
    "A spanning tree connects all nodes without cycles, like laying out minimum wiring for cities."
   ]
  },
  {
   "cell_type": "code",
   "execution_count": null,
   "id": "d6dc14f8",
   "metadata": {},
   "outputs": [],
   "source": [
    "\n",
    "# If connected and cyclic, get minimum spanning tree\n",
    "spanning_tree = nx.minimum_spanning_tree(G)\n",
    "print(\"Edges of the spanning tree:\", list(spanning_tree.edges()))\n",
    "nx.draw(spanning_tree, with_labels=True)\n",
    "plt.title(\"Spanning Tree\")\n",
    "plt.show()\n"
   ]
  },
  {
   "cell_type": "markdown",
   "id": "7c181fe4",
   "metadata": {},
   "source": [
    "### 9. Count Leaf Nodes in a Tree"
   ]
  },
  {
   "cell_type": "markdown",
   "id": "5b029833",
   "metadata": {},
   "source": [
    "Explanation:\n",
    "Leaf nodes are like endpoints — people who don’t pass messages forward in a chain."
   ]
  },
  {
   "cell_type": "code",
   "execution_count": null,
   "id": "f0d66e17",
   "metadata": {},
   "outputs": [],
   "source": [
    "\n",
    "def count_leaf_nodes(tree):\n",
    "    return sum(1 for node in tree.nodes if tree.degree[node] == 1)\n",
    "\n",
    "print(\"Leaf nodes in spanning tree:\", count_leaf_nodes(spanning_tree))\n"
   ]
  },
  {
   "cell_type": "markdown",
   "id": "4fe0d948",
   "metadata": {},
   "source": [
    "### 10. Check if Tree is Binary"
   ]
  },
  {
   "cell_type": "markdown",
   "id": "6594b3b6",
   "metadata": {},
   "source": [
    "Explanation:\n",
    "\n",
    "A binary tree is a tree where each node has at most two children.\n",
    "\n",
    "Like decision trees in machine learning or family trees.\n"
   ]
  },
  {
   "cell_type": "code",
   "execution_count": null,
   "id": "0896253a",
   "metadata": {},
   "outputs": [],
   "source": [
    "\n",
    "def is_binary_tree(tree):\n",
    "    return all(tree.degree[node] <= 3 for node in tree.nodes)\n",
    "\n",
    "print(\"Is the tree binary?\", is_binary_tree(spanning_tree))\n"
   ]
  },
  {
   "cell_type": "markdown",
   "id": "6f540e45",
   "metadata": {},
   "source": [
    "### 11. Find Height of a Node in Tree"
   ]
  },
  {
   "cell_type": "markdown",
   "id": "1fd701d7",
   "metadata": {},
   "source": [
    "Explanation:\n",
    "\n",
    "Height is the longest distance from a node to a leaf — like the tallest branch below it in an organizational chart."
   ]
  },
  {
   "cell_type": "code",
   "execution_count": null,
   "id": "e59be6d9",
   "metadata": {},
   "outputs": [],
   "source": [
    "\n",
    "def height(tree, root):\n",
    "    visited = set()\n",
    "    queue = deque([(root, 0)])\n",
    "    max_depth = 0\n",
    "    while queue:\n",
    "        node, depth = queue.popleft()\n",
    "        visited.add(node)\n",
    "        max_depth = max(max_depth, depth)\n",
    "        for neighbor in tree.neighbors(node):\n",
    "            if neighbor not in visited:\n",
    "                queue.append((neighbor, depth + 1))\n",
    "    return max_depth\n",
    "\n",
    "print(\"Height of 'A' in tree:\", height(spanning_tree, 'A'))\n"
   ]
  },
  {
   "cell_type": "markdown",
   "id": "2dae80c5",
   "metadata": {},
   "source": [
    "### 12. Find Depth of a Node in Tree"
   ]
  },
  {
   "cell_type": "markdown",
   "id": "4cc781e4",
   "metadata": {},
   "source": [
    "Explanation:\n",
    "Depth is the number of steps from the root to the target — like the level in a company hierarchy.\n"
   ]
  },
  {
   "cell_type": "code",
   "execution_count": null,
   "id": "5138405f",
   "metadata": {},
   "outputs": [],
   "source": [
    "\n",
    "def find_depth(tree, root, target):\n",
    "    visited = set()\n",
    "    queue = deque([(root, 0)])\n",
    "    while queue:\n",
    "        node, depth = queue.popleft()\n",
    "        if node == target:\n",
    "            return depth\n",
    "        visited.add(node)\n",
    "        for neighbor in tree.neighbors(node):\n",
    "            if neighbor not in visited:\n",
    "                queue.append((neighbor, depth + 1))\n",
    "    return -1\n",
    "\n",
    "print(\"Depth of 'D' from 'A':\", find_depth(spanning_tree, 'A', 'D'))\n"
   ]
  }
 ],
 "metadata": {
  "language_info": {
   "name": "python"
  }
 },
 "nbformat": 4,
 "nbformat_minor": 5
}
